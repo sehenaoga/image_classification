{
 "cells": [
  {
   "cell_type": "markdown",
   "metadata": {},
   "source": [
    "# Setup"
   ]
  },
  {
   "cell_type": "code",
   "execution_count": null,
   "metadata": {},
   "outputs": [],
   "source": [
    "#***Importing libraries***\n",
    "\n",
    "#Math tools\n",
    "import numpy as np\n",
    "\n",
    "#OS tools\n",
    "import os\n",
    "\n",
    "#Image processing tools\n",
    "import cv2\n",
    "\n",
    "#Plotting tools\n",
    "import matplotlib as mpl\n",
    "import matplotlib.pyplot as plt"
   ]
  },
  {
   "cell_type": "code",
   "execution_count": null,
   "metadata": {},
   "outputs": [],
   "source": [
    "# Random seeds\n",
    "np.random.seed(1)"
   ]
  },
  {
   "cell_type": "markdown",
   "metadata": {},
   "source": [
    "# Reading the images"
   ]
  },
  {
   "cell_type": "code",
   "execution_count": null,
   "metadata": {},
   "outputs": [],
   "source": [
    "#Specifying the number of classes and images to use\n",
    "n_classes = 2;\n",
    "n_figs = 3;\n",
    "\n",
    "#Specifying the total number of classes and images avaialble\n",
    "N_classes = 45;\n",
    "N_figs = 700;\n",
    "\n",
    "#Randomly choosing the classes and figures to analyze\n",
    "class_idx = np.random.randint(N_classes,size=n_classes);\n",
    "fig_idx = np.random.randint(N_figs,size=n_figs);\n",
    "#These two lines above generate different choices each time they're executed unless the random seed is reset"
   ]
  },
  {
   "cell_type": "code",
   "execution_count": null,
   "metadata": {},
   "outputs": [],
   "source": [
    "#Specifying the path\n",
    "PROJECT_ROOT_DIR = '..'\n",
    "DATASET_FOLDER = 'training_data'\n",
    "DATASET_PATH = os.path.join(PROJECT_ROOT_DIR,DATASET_FOLDER)\n",
    "\n",
    "\n",
    "#Reading the folders tree\n",
    "classes_all = sorted(os.listdir(DATASET_PATH));\n",
    "classes_all.remove('summary'); #Removes the summary file\n",
    "N_classes = len(classes_all)\n",
    "if n_classes > 0 and n_classes <= N_classes:\n",
    "    classes = [classes_all[idx] for idx in class_idx]\n",
    "else:\n",
    "    print('Wrong number of classes requested')\n",
    "    raise SystemExit(0)\n",
    "    \n",
    "#Reading the figures\n",
    "figs = [];\n",
    "for folder in classes:\n",
    "    CLASS_PATH = os.path.join(DATASET_PATH, folder);\n",
    "    figs_names_all = sorted(os.listdir(CLASS_PATH));\n",
    "    if n_figs > 0 and n_figs <= N_figs:\n",
    "        figs_names = [figs_names_all[idx] for idx in fig_idx]\n",
    "        FIGS_PATHS = [os.path.join(CLASS_PATH, fig) for fig in figs_names]\n",
    "        figs_i = [cv2.imread(PATH,0) for PATH in FIGS_PATHS]; #cv2.imread with flag 0 reads the image in grayscale\n",
    "        figs.append(figs_i)\n",
    "    else:\n",
    "        print('Wrong number of figures requested')\n",
    "        raise SystemExit(0)\n",
    "\n",
    "##***Output***\n",
    "#figs: Multidimensional array containing classes in the first dimension and figures in the second dimension. \n",
    "#Each figure is a multidimensional array itself of 256x256 pixels and only the greyscale channel: int(0,255)"
   ]
  },
  {
   "cell_type": "code",
   "execution_count": null,
   "metadata": {},
   "outputs": [],
   "source": [
    "#Shows the names of the chosen classes and their corresponding indexes in figs\n",
    "print('Chosen classes:')\n",
    "print(list(enumerate(classes)))"
   ]
  },
  {
   "cell_type": "code",
   "execution_count": null,
   "metadata": {},
   "outputs": [],
   "source": [
    "#Visualizing some of the data\n",
    "fig_test = figs[29][2];\n",
    "plt.imshow(fig_test, cmap = mpl.cm.binary); plt.axis(\"off\")"
   ]
  }
 ],
 "metadata": {
  "kernelspec": {
   "display_name": "Python 3",
   "language": "python",
   "name": "python3"
  },
  "language_info": {
   "codemirror_mode": {
    "name": "ipython",
    "version": 3
   },
   "file_extension": ".py",
   "mimetype": "text/x-python",
   "name": "python",
   "nbconvert_exporter": "python",
   "pygments_lexer": "ipython3",
   "version": "3.8.5"
  }
 },
 "nbformat": 4,
 "nbformat_minor": 4
}
